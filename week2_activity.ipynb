{
 "cells": [
  {
   "cell_type": "markdown",
   "id": "1818a793-26ce-4c54-a8c9-5a658e0125b7",
   "metadata": {},
   "source": [
    "# Weekly Activity"
   ]
  },
  {
   "cell_type": "markdown",
   "id": "85aa6986-7571-4702-85e9-f20fc1af6758",
   "metadata": {},
   "source": [
    "## Question 1"
   ]
  },
  {
   "cell_type": "code",
   "execution_count": 4,
   "id": "c0ed2a39-5f3f-4e5e-bf59-f6c3460319f9",
   "metadata": {},
   "outputs": [],
   "source": [
    "import numpy as np\n",
    "import time"
   ]
  },
  {
   "cell_type": "code",
   "execution_count": 5,
   "id": "1dc941f3-094a-4ba5-976e-5c1541cec23b",
   "metadata": {},
   "outputs": [],
   "source": [
    "def even(number):\n",
    "    return number % 2 == 0\n",
    "\n",
    "def odd(number):\n",
    "    return not even(number)"
   ]
  },
  {
   "cell_type": "markdown",
   "id": "b27c049e-f73b-4675-bd06-65ce0e1b8cd8",
   "metadata": {},
   "source": [
    "## Question2"
   ]
  },
  {
   "cell_type": "code",
   "execution_count": 6,
   "id": "e372458a-8333-42cb-bbd4-ad7355b6752a",
   "metadata": {},
   "outputs": [
    {
     "name": "stdout",
     "output_type": "stream",
     "text": [
      "Python list:  0.544562578201294\n",
      "Numpy array:  0.0042154788970947266\n"
     ]
    }
   ],
   "source": [
    "st_time = time.time()\n",
    "py_list = [i for i in range (10**6)]\n",
    "for i in range(len(py_list)):\n",
    "    py_list[i]  = py_list[i]*2\n",
    "\n",
    "ed_time = time.time()\n",
    "print(\"Python list: \", ed_time - st_time)\n",
    "\n",
    "st_time = time.time()\n",
    "np_array = np.arange(10**6)\n",
    "np_array *=2\n",
    "ed_time = time.time()\n",
    "print(\"Numpy array: \", ed_time - st_time)"
   ]
  },
  {
   "cell_type": "markdown",
   "id": "6dd9969b-4fe9-4b9b-ae25-6ab9cfc1b9b0",
   "metadata": {},
   "source": [
    "## Question3"
   ]
  },
  {
   "cell_type": "code",
   "execution_count": 7,
   "id": "86f26401-f6b8-4fe2-8cf9-96c55a2523bb",
   "metadata": {},
   "outputs": [
    {
     "name": "stdout",
     "output_type": "stream",
     "text": [
      "[0 1 2 3 4 5 6 7 8 9]\n",
      "[ 0  1  2  3 25 25 25  7  8  9]\n",
      "[-1 25 25]\n",
      "[ 0  1  2  3 -1 25 25  7  8  9]\n"
     ]
    }
   ],
   "source": [
    "my_arr = np.arange(10)\n",
    "print(my_arr)\n",
    "my_arr[4:7] = 25\n",
    "print(my_arr)\n",
    "arr_slice = my_arr[4:7]\n",
    "# Change the first element of arr_slice to -1\n",
    "arr_slice[0]= -1\n",
    "print(arr_slice)\n",
    "print(my_arr)\n"
   ]
  },
  {
   "cell_type": "code",
   "execution_count": 8,
   "id": "0b4d2ce6-b64d-4b30-b87d-c4e31e8171be",
   "metadata": {},
   "outputs": [
    {
     "name": "stdout",
     "output_type": "stream",
     "text": [
      "[-1 25 25]\n",
      "[ 0  1  2  3 -1 25 25  7  8  9]\n"
     ]
    }
   ],
   "source": [
    "arr_slice = my_arr[4:7].copy()\n",
    "arr_slice[0] = -1\n",
    "print(arr_slice)  \n",
    "print(my_arr)  "
   ]
  },
  {
   "cell_type": "markdown",
   "id": "80f4eb2c-3a49-480b-8b12-5fa9301c905a",
   "metadata": {},
   "source": [
    "## Question 4"
   ]
  },
  {
   "cell_type": "code",
   "execution_count": 9,
   "id": "5bb1d70a-5893-43e1-8ac4-fc59d6659672",
   "metadata": {},
   "outputs": [],
   "source": [
    "import matplotlib.pyplot as plt"
   ]
  },
  {
   "cell_type": "code",
   "execution_count": 10,
   "id": "d5fab1fa-2c9e-40d9-ae5f-ed54a4d2415d",
   "metadata": {},
   "outputs": [
    {
     "data": {
      "image/png": "[encoded data removed]",
      "text/plain": [
       "<Figure size 640x480 with 1 Axes>"
      ]
     },
     "metadata": {},
     "output_type": "display_data"
    }
   ],
   "source": [
    "image_dim = 300\n",
    "image = np.zeros((image_dim, image_dim, 3), dtype=np.uint8)\n",
    "\n",
    "center_x = image_dim // 2\n",
    "center_y = image_dim // 2\n",
    "\n",
    "y, x = np.ogrid[:image_dim, :image_dim]\n",
    "mask = (x - center_x) ** 2 + (y - center_y) ** 2 <= (image_dim // 4) ** 2\n",
    "\n",
    "image[mask] = [255, 255, 255]\n",
    "\n",
    "plt.imshow(image)\n",
    "plt.axis('off')\n",
    "plt.show()"
   ]
  },
  {
   "cell_type": "code",
   "execution_count": null,
   "id": "7fc8d6ef-e775-4b81-98ff-445832b8b20e",
   "metadata": {},
   "outputs": [],
   "source": []
  }
 ],
 "metadata": {
  "kernelspec": {
   "display_name": "Python 3 (ipykernel)",
   "language": "python",
   "name": "python3"
  },
  "language_info": {
   "codemirror_mode": {
    "name": "ipython",
    "version": 3
   },
   "file_extension": ".py",
   "mimetype": "text/x-python",
   "name": "python",
   "nbconvert_exporter": "python",
   "pygments_lexer": "ipython3",
   "version": "3.11.4"
  }
 },
 "nbformat": 4,
 "nbformat_minor": 5
}
