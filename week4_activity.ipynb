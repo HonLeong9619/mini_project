{
 "cells": [
  {
   "cell_type": "markdown",
   "id": "2b7eddb8-04c0-4b29-b6f8-c817fdb2c363",
   "metadata": {},
   "source": [
    "# Weekly Activity"
   ]
  },
  {
   "cell_type": "code",
   "execution_count": null,
   "id": "402800be-30cd-4d3c-a9cc-a1008f4b3f37",
   "metadata": {},
   "outputs": [],
   "source": [
    "import sys\n",
    "assert sys.version_info >= (3,7)\n",
    "\n",
    "import cv2 as cv\n",
    "import numpy as np\n",
    "\n",
    "if not cv.useOptimized():\n",
    " cv.setUseOptimized(True)\n",
    " \n",
    "cv.useOptimized()"
   ]
  },
  {
   "cell_type": "markdown",
   "id": "3961862c-c7c5-4fe6-a285-ddfb68b94d71",
   "metadata": {},
   "source": [
    "## Question 1"
   ]
  },
  {
   "cell_type": "code",
   "execution_count": 3,
   "id": "47486445-6158-4b0d-971b-61b4caae9997",
   "metadata": {},
   "outputs": [],
   "source": [
    "width, height = 400, 300\n",
    "total_pixels = width * height\n",
    "\n",
    "color_image = np.random.randint(0, 256, (height, width, 3), dtype=np.uint8)\n",
    "\n",
    "\n",
    "grayscale_image = np.random.randint(0, 256, (height, width), dtype=np.uint8)\n",
    "\n",
    "cv.imshow('Random Noise Color Image', color_image)\n",
    "cv.imshow('Random Noise Grayscale Image', grayscale_image)\n",
    "cv.waitKey(0)\n",
    "cv.destroyAllWindows()"
   ]
  },
  {
   "cell_type": "markdown",
   "id": "61050ad2-5934-4ffe-9ae5-6fb88914106f",
   "metadata": {},
   "source": [
    "## Question 2"
   ]
  },
  {
   "cell_type": "code",
   "execution_count": 6,
   "id": "0f92f551-aa6b-4952-97be-d1307808cf91",
   "metadata": {},
   "outputs": [],
   "source": [
    "def crop_grid(img, num_horizontal_grid, num_vertical_grid, line_color):\n",
    "    height, width = img.shape[:2]\n",
    "    patch_height = height // num_vertical_grid\n",
    "    patch_width = width // num_horizontal_grid\n",
    "\n",
    "    grid_img = img.copy()\n",
    "    for i in range(1, num_horizontal_grid):\n",
    "        x = i * patch_width\n",
    "        cv.line(grid_img, (x, 0), (x, height), line_color, 2)\n",
    "    for j in range(1, num_vertical_grid):\n",
    "        y = j * patch_height\n",
    "        cv.line(grid_img, (0, y), (width, y), line_color, 2)\n",
    "\n",
    "    return grid_img\n",
    "\n",
    "base_image = cv.imread('images/images/lena.jfif')\n",
    "\n",
    "grid_image = crop_grid(base_image, num_horizontal_grid=10, num_vertical_grid=10, line_color=(0, 255, 0))\n",
    "cv.imshow('Image with Grid', grid_image)\n",
    "cv.waitKey(0)\n",
    "cv.destroyAllWindows()"
   ]
  },
  {
   "cell_type": "markdown",
   "id": "c854672a-7aa8-4335-b91e-eb6cbe0313d2",
   "metadata": {},
   "source": [
    "## Question 3"
   ]
  },
  {
   "cell_type": "code",
   "execution_count": 10,
   "id": "a714a8cb-006f-4401-a2f7-1d05eff32395",
   "metadata": {},
   "outputs": [],
   "source": [
    "image1 = cv.imread('images/images/lena.jfif')\n",
    "image2 = cv.imread('images/images/coins.jfif')\n",
    "\n",
    "target_height = min(image1.shape[0], image2.shape[0])\n",
    "target_width = min(image1.shape[1], image2.shape[1])\n",
    "\n",
    "image1 = cv.resize(image1, (target_width, target_height))\n",
    "image2 = cv.resize(image2, (target_width, target_height))\n",
    "\n",
    "alpha = 0.5  \n",
    "\n",
    "blended_image = cv.addWeighted(image1, alpha, image2, 1 - alpha, 0)\n",
    "\n",
    "cv.imshow('Blended Image', blended_image)\n",
    "cv.waitKey(0)\n",
    "cv.destroyAllWindows()"
   ]
  },
  {
   "cell_type": "markdown",
   "id": "088e0857-421c-4acd-b5ce-51f28d23beb9",
   "metadata": {},
   "source": [
    "## Question 4"
   ]
  },
  {
   "cell_type": "code",
   "execution_count": null,
   "id": "999adbdd-905a-4d92-b598-3658ff365023",
   "metadata": {},
   "outputs": [],
   "source": [
    "image = cv.imread(\"images/images/travel_hd.jpg\")\n",
    "watermark = cv.imread(\"images/images/watermark.png\", cv.IMREAD_UNCHANGED)\n",
    "\n",
    "watermark = cv.resize(watermark, (image.shape[1], image.shape[0]))\n",
    "\n",
    "alpha = 0.5  \n",
    "overlay = image.copy()\n",
    "cv.addWeighted(overlay, alpha, watermark, 1 - alpha, 0, image)\n",
    "\n",
    "cv.imshow('Watermark Image', image)\n",
    "cv.waitKey(0)\n",
    "cv.destroyAllWindows()"
   ]
  },
  {
   "cell_type": "code",
   "execution_count": null,
   "id": "7742263c-f920-482a-8e57-85087e3ec593",
   "metadata": {},
   "outputs": [],
   "source": []
  }
 ],
 "metadata": {
  "kernelspec": {
   "display_name": "Python 3 (ipykernel)",
   "language": "python",
   "name": "python3"
  },
  "language_info": {
   "codemirror_mode": {
    "name": "ipython",
    "version": 3
   },
   "file_extension": ".py",
   "mimetype": "text/x-python",
   "name": "python",
   "nbconvert_exporter": "python",
   "pygments_lexer": "ipython3",
   "version": "3.11.4"
  }
 },
 "nbformat": 4,
 "nbformat_minor": 5
}
