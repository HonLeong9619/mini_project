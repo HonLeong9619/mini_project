{
 "cells": [
  {
   "cell_type": "markdown",
   "id": "5f555e4b-cb8c-493d-bd9e-028466ad1403",
   "metadata": {},
   "source": [
    "# Weekly Activity"
   ]
  },
  {
   "cell_type": "code",
   "execution_count": 1,
   "id": "bbff56e0-46cb-4d70-a48a-8df155ab82e6",
   "metadata": {},
   "outputs": [
    {
     "data": {
      "text/plain": [
       "True"
      ]
     },
     "execution_count": 1,
     "metadata": {},
     "output_type": "execute_result"
    }
   ],
   "source": [
    "import sys\n",
    "# assert Python 3.7 or later is required\n",
    "assert sys.version_info >= (3, 7)\n",
    "import cv2 as cv\n",
    "import numpy as np\n",
    "# Make sure that optimization is enabled\n",
    "if not cv.useOptimized():\n",
    " cv.setUseOptimized(True)\n",
    " \n",
    "cv.useOptimized()"
   ]
  },
  {
   "cell_type": "markdown",
   "id": "e5639bbb-fad9-4fbe-a58b-16652d5e4ce8",
   "metadata": {},
   "source": [
    "## Question 1"
   ]
  },
  {
   "cell_type": "code",
   "execution_count": 4,
   "id": "6a33aef2-89f1-4e8b-8d4f-d8157715c871",
   "metadata": {},
   "outputs": [],
   "source": [
    "image = cv.imread(\"images/images/lena.jfif\")\n",
    "\n",
    "height, width = image.shape[:2]\n",
    "\n",
    "center = (width // 2, height // 2)\n",
    "angle = 45\n",
    "rotation_matrix = cv.getRotationMatrix2D(center, angle, 1)\n",
    "\n",
    "new_width = int(np.sqrt(width**2 + height**2))\n",
    "new_height = int(np.sqrt(width**2 + height**2))\n",
    "\n",
    "rotation_matrix[0, 2] += (new_width - width) / 2\n",
    "rotation_matrix[1, 2] += (new_height - height) / 2\n",
    "\n",
    "rotated_image = cv.warpAffine(image, rotation_matrix, (new_width, new_height))\n",
    "\n",
    "cv.imshow('Rotated Image', rotated_image)\n",
    "cv.waitKey(0)\n",
    "cv.destroyAllWindows()"
   ]
  },
  {
   "cell_type": "markdown",
   "id": "6a48f4f8-a718-4c13-9927-516c934042db",
   "metadata": {},
   "source": [
    "## Question 2"
   ]
  },
  {
   "cell_type": "code",
   "execution_count": 6,
   "id": "0f488c3f-e262-4692-968c-b92e5dd6f514",
   "metadata": {},
   "outputs": [],
   "source": [
    "bee_image = cv.imread('images/images/native-bee.png')\n",
    "flower_image = cv.imread('images/images/flower.jfif')\n",
    "\n",
    "flower_image = cv.resize(flower_image, (bee_image.shape[1], bee_image.shape[0]))\n",
    "\n",
    "gray_flower = cv.cvtColor(flower_image, cv.COLOR_BGR2GRAY)\n",
    "_, mask = cv.threshold(gray_flower, 200, 255, cv.THRESH_BINARY)\n",
    "\n",
    "mask_inv = cv.bitwise_not(mask)\n",
    "\n",
    "bee_with_flower = cv.bitwise_and(bee_image, bee_image, mask=mask_inv)\n",
    "flower_on_bee = cv.bitwise_and(flower_image, flower_image, mask=mask)\n",
    "result = cv.add(bee_with_flower, flower_on_bee)\n",
    "\n",
    "cv.imshow('Bee with Flower', result)\n",
    "cv.waitKey(0)\n",
    "cv.destroyAllWindows()"
   ]
  },
  {
   "cell_type": "markdown",
   "id": "6bcd5b59-a1a8-4274-ae05-094b25534301",
   "metadata": {},
   "source": [
    "## Question 3"
   ]
  },
  {
   "cell_type": "code",
   "execution_count": 7,
   "id": "4c39afd8-9d9a-4792-bc48-128b01ef315a",
   "metadata": {},
   "outputs": [],
   "source": [
    "image = cv.imread('images/images/native-bee.png')\n",
    "\n",
    "kernel_3x3 = np.array([[-1, -1, -1],\n",
    "                       [-1,  9, -1],\n",
    "                       [-1, -1, -1]])\n",
    "\n",
    "kernel_5x5 = np.array([[-1, -1, -1, -1, -1],\n",
    "                       [-1, -1, -1, -1, -1],\n",
    "                       [-1, -1, 25, -1, -1],\n",
    "                       [-1, -1, -1, -1, -1],\n",
    "                       [-1, -1, -1, -1, -1]])\n",
    "\n",
    "sharpened_3x3 = cv.filter2D(image, -1, kernel_3x3)\n",
    "sharpened_5x5 = cv.filter2D(image, -1, kernel_5x5)\n",
    "\n",
    "cv.imshow('Sharpened 3x3', sharpened_3x3)\n",
    "cv.imshow('Sharpened 5x5', sharpened_5x5)\n",
    "cv.waitKey(0)\n",
    "cv.destroyAllWindows()"
   ]
  },
  {
   "cell_type": "markdown",
   "id": "1283f6bf-2740-401b-a262-4f94534fe8b8",
   "metadata": {},
   "source": [
    "## Question 4"
   ]
  },
  {
   "cell_type": "code",
   "execution_count": 9,
   "id": "a9de276e-10e3-4e8d-86b3-5737fa104675",
   "metadata": {},
   "outputs": [],
   "source": [
    "image = cv.imread(\"images/images/noise_lena.jpg\")\n",
    "\n",
    "average_blur = cv.blur(image, (5, 5))\n",
    "\n",
    "gaussian_blur = cv.GaussianBlur(image, (5, 5), 0)\n",
    "\n",
    "median_blur = cv.medianBlur(image, 5)\n",
    "\n",
    "cv.imshow('Original Image', image)\n",
    "cv.imshow('Average Blur', average_blur)\n",
    "cv.imshow('Gaussian Blur', gaussian_blur)\n",
    "cv.imshow('Median Blur', median_blur)\n",
    "cv.waitKey(0)\n",
    "cv.destroyAllWindows()"
   ]
  },
  {
   "cell_type": "code",
   "execution_count": null,
   "id": "90326bb5-f69e-4d35-842a-c2872139b383",
   "metadata": {},
   "outputs": [],
   "source": []
  }
 ],
 "metadata": {
  "kernelspec": {
   "display_name": "Python 3 (ipykernel)",
   "language": "python",
   "name": "python3"
  },
  "language_info": {
   "codemirror_mode": {
    "name": "ipython",
    "version": 3
   },
   "file_extension": ".py",
   "mimetype": "text/x-python",
   "name": "python",
   "nbconvert_exporter": "python",
   "pygments_lexer": "ipython3",
   "version": "3.11.4"
  }
 },
 "nbformat": 4,
 "nbformat_minor": 5
}
