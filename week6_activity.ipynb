{
 "cells": [
  {
   "cell_type": "markdown",
   "id": "25dbb498-4a42-46c1-ae7a-708671be2bac",
   "metadata": {},
   "source": [
    "# Weekly activity"
   ]
  },
  {
   "cell_type": "markdown",
   "id": "c0b2db10-e42b-4c24-8029-f7abb96588b8",
   "metadata": {},
   "source": [
    "## Question 1"
   ]
  },
  {
   "cell_type": "code",
   "execution_count": 2,
   "id": "8c4c10a0-1f9d-4e3e-adf5-ca52b37d3f52",
   "metadata": {},
   "outputs": [],
   "source": [
    "img = cv2.imread('images/images/boat.jpg', cv2.IMREAD_COLOR)"
   ]
  },
  {
   "cell_type": "code",
   "execution_count": 3,
   "id": "e0ad1e74-b69e-4b9b-a7fe-5039271f5646",
   "metadata": {},
   "outputs": [],
   "source": [
    "gray = cv2.cvtColor(img, cv2.COLOR_BGR2GRAY)"
   ]
  },
  {
   "cell_type": "code",
   "execution_count": 4,
   "id": "3ad0c9ef-6a10-43d4-82c9-575405c1a620",
   "metadata": {},
   "outputs": [],
   "source": [
    "_, thresholded = cv2.threshold(gray, 0, 255, cv2.THRESH_BINARY_INV + cv2.THRESH_OTSU)"
   ]
  },
  {
   "cell_type": "code",
   "execution_count": 5,
   "id": "b087aaea-0a81-4788-a629-506851e71168",
   "metadata": {},
   "outputs": [],
   "source": [
    "contours, _ = cv2.findContours(thresholded, cv2.RETR_EXTERNAL, cv2.CHAIN_APPROX_SIMPLE)"
   ]
  },
  {
   "cell_type": "code",
   "execution_count": 6,
   "id": "8a6e2ca7-1f9d-4060-9f48-2239914fcdb7",
   "metadata": {},
   "outputs": [],
   "source": [
    "for contour in contours:\n",
    "    x, y, w, h = cv2.boundingRect(contour)\n",
    "    cv2.rectangle(img, (x,y), (x+w, y+h), (0,255,0),2)"
   ]
  },
  {
   "cell_type": "code",
   "execution_count": 7,
   "id": "aee1c385-7e52-4f80-b077-50bf06b73475",
   "metadata": {},
   "outputs": [],
   "source": [
    "cv2.imshow('Segmented Boat and People', img)\n",
    "cv2.waitKey(0)\n",
    "cv2.destroyAllWindows()"
   ]
  },
  {
   "cell_type": "markdown",
   "id": "0c42bc10-8d54-43a5-8101-4baac48d76ee",
   "metadata": {},
   "source": [
    "## Question 2"
   ]
  },
  {
   "cell_type": "code",
   "execution_count": 14,
   "id": "c7f34941-5a1a-41ea-9eed-728bc262a589",
   "metadata": {},
   "outputs": [],
   "source": [
    "def on_tbar(val):\n",
    "    size = val * 2 + 1\n",
    "    kernel = cv2.getStructuringElement(cv2.MORPH_RECT, (size,size))\n",
    "    result = cv2.morphologyEx(thresholded, cv2.MORPH_OPEN, kernel)\n",
    "    cv2.imshow('Leaf', result)"
   ]
  },
  {
   "cell_type": "code",
   "execution_count": 15,
   "id": "b9644900-0747-4263-b692-f92183056f48",
   "metadata": {},
   "outputs": [],
   "source": [
    "img = cv2.imread('images/images/leaf.jfif',cv2.IMREAD_COLOR)"
   ]
  },
  {
   "cell_type": "code",
   "execution_count": 16,
   "id": "58f772e4-afdb-4040-b967-3ab3b7b3a289",
   "metadata": {},
   "outputs": [],
   "source": [
    "gray = cv2.cvtColor(img, cv2.COLOR_BGR2GRAY)"
   ]
  },
  {
   "cell_type": "code",
   "execution_count": 17,
   "id": "5f7391ee-9f25-45b3-89d7-380bbea330c9",
   "metadata": {},
   "outputs": [],
   "source": [
    "_, thresholded = cv2.threshold(gray, 0, 255, cv2.THRESH_BINARY_INV + cv2.THRESH_OTSU)"
   ]
  },
  {
   "cell_type": "code",
   "execution_count": 19,
   "id": "1e6136f9-3e21-49d3-9221-05283c03c13d",
   "metadata": {},
   "outputs": [],
   "source": [
    "cv2.namedWindow('Leaf')\n",
    "cv2.createTrackbar('Kernel', 'Leaf', 0, 20, on_tbar)\n",
    "on_tbar(0)\n",
    "cv2.waitKey(0)\n",
    "cv2.destroyAllWindows()"
   ]
  },
  {
   "cell_type": "markdown",
   "id": "c00883e5-48b7-400f-abc8-6bdc25e2ed43",
   "metadata": {},
   "source": [
    "## Question 3"
   ]
  },
  {
   "cell_type": "code",
   "execution_count": 25,
   "id": "d1094085-3a7f-4537-adb1-66bce3af5f39",
   "metadata": {},
   "outputs": [],
   "source": [
    "blue_low = (85, 90, 0)\n",
    "blue_high = (125, 255, 160)"
   ]
  },
  {
   "cell_type": "code",
   "execution_count": 27,
   "id": "3e2c1ef8-08ec-4a5b-bc19-9bb9952fdc60",
   "metadata": {},
   "outputs": [],
   "source": [
    "def color_seg(img, color_low, color_high, smooth=True):\n",
    "    \"\"\"Args:\n",
    "    img:source image\n",
    "    color_low and color_high are tuple of colors\n",
    "    smooth is boolean (blurring or not)\"\"\"\n",
    "    ori_img = img.copy()\n",
    "    if smooth:\n",
    "        img = cv2.GaussianBlur(img, (5,5), 0)\n",
    "        \n",
    "    #change from RGB to HSV\n",
    "    img_hsv = cv2.cvtColor(img, cv2.COLOR_RGB2HSV)\n",
    "    \n",
    "    # mask\n",
    "    mask = cv2.inRange(img_hsv, color_low, color_high)\n",
    "    mask = cv2.erode(mask, None, iterations=2)\n",
    "    mask = cv2.dilate(mask, None, iterations=2)\n",
    "    \n",
    "    return cv2.bitwise_and(ori_img, ori_img, mask=mask)\n",
    "\n",
    "imgs = []\n",
    "\n",
    "for i in range(1, 6):\n",
    "    img = cv2.imread(cv2.samples.findFile(f\"images/images/color_space/porcelain{i}.jfif\"))\n",
    "    img = cv2.cvtColor(img, cv2.COLOR_BGR2RGB)\n",
    "    imgs.append(img)\n",
    "    \n",
    "#perform color segmentation\n",
    "res = [color_seg(im, blue_low, blue_high) for im in imgs] "
   ]
  },
  {
   "cell_type": "code",
   "execution_count": null,
   "id": "f1d13c1a-dc85-412f-b0d6-c584fcf093b0",
   "metadata": {},
   "outputs": [],
   "source": []
  }
 ],
 "metadata": {
  "kernelspec": {
   "display_name": "Python 3 (ipykernel)",
   "language": "python",
   "name": "python3"
  },
  "language_info": {
   "codemirror_mode": {
    "name": "ipython",
    "version": 3
   },
   "file_extension": ".py",
   "mimetype": "text/x-python",
   "name": "python",
   "nbconvert_exporter": "python",
   "pygments_lexer": "ipython3",
   "version": "3.11.4"
  }
 },
 "nbformat": 4,
 "nbformat_minor": 5
}
